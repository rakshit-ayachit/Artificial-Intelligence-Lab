{
 "cells": [
  {
   "cell_type": "markdown",
   "metadata": {},
   "source": [
    "# Week 8 - Frozen Lake\n",
    "## Name: Rakshit Ramachandra Ayachit\n",
    "## Registration No.: 210968045\n",
    "## Batch: B1\n",
    "## Section: DSE-A\n"
   ]
  },
  {
   "cell_type": "code",
   "execution_count": 1,
   "metadata": {
    "id": "KvGIxp4eyALi"
   },
   "outputs": [],
   "source": [
    "import sys\n",
    "import gym\n",
    "import numpy as np"
   ]
  },
  {
   "cell_type": "code",
   "execution_count": 2,
   "metadata": {
    "id": "C8HXEZGtyIQh"
   },
   "outputs": [],
   "source": [
    "env = gym.make('FrozenLake-v1',is_slippery=True)"
   ]
  },
  {
   "cell_type": "markdown",
   "metadata": {},
   "source": [
    "calculate_state_value calculates the value of each possible action from the given current state\n",
    "based on the transition probabilities, rewards, and the value of the next states.\n",
    "It uses the Bellman equation to compute the action values, considering the discount factor.\n"
   ]
  },
  {
   "cell_type": "code",
   "execution_count": 11,
   "metadata": {
    "id": "QAoTteifyI2c"
   },
   "outputs": [],
   "source": [
    "\n",
    "def calculate_state_value(env, current_state, value_matrix, discount_factor):\n",
    "\n",
    "    num_actions = env.action_space.n\n",
    "    action_values = np.zeros(shape=num_actions)\n",
    "    for action in range(num_actions):\n",
    "        for transition_prob, next_state, reward, done in env.env.P[current_state][action]:\n",
    "            action_values[action] += transition_prob * (reward + discount_factor * value_matrix[next_state])\n",
    "    return action_values\n"
   ]
  },
  {
   "cell_type": "markdown",
   "metadata": {},
   "source": [
    "evaluate_policy evaluates a given policy by iteratively estimating the state values\n",
    "until they converge or until the maximum number of iterations is reached.\n",
    "It updates the state values using the Bellman expectation equation.\n",
    "The convergence is determined by the change in state values being below a threshold.\n",
    "It returns the estimated state values for the given policy.\n"
   ]
  },
  {
   "cell_type": "code",
   "execution_count": 12,
   "metadata": {
    "id": "EheuMWhxyJd0"
   },
   "outputs": [],
   "source": [
    "\n",
    "def evaluate_policy(policy_matrix, environment, discount_factor=1.0, convergence_threshold=1e-9, max_iterations=1000):\n",
    "    num_states = environment.observation_space.n\n",
    "    evaluation_iterations = 1\n",
    "    state_values = np.zeros(shape=num_states)\n",
    "\n",
    "    for iteration in range(int(max_iterations)):\n",
    "        delta = 0\n",
    "        for current_state in range(num_states):\n",
    "            new_state_value = 0\n",
    "            for action, action_probability in enumerate(policy_matrix[current_state]):\n",
    "                for state_probability, next_state, reward, done in environment.P[current_state][action]:\n",
    "                    new_state_value += action_probability * state_probability * (reward + discount_factor * state_values[next_state])\n",
    "            delta = max(delta, np.abs(state_values[current_state] - new_state_value))\n",
    "            state_values[current_state] = new_state_value\n",
    "\n",
    "        evaluation_iterations += 1\n",
    "\n",
    "        if delta < convergence_threshold:\n",
    "            print(f'Policy evaluation terminated after {evaluation_iterations} iterations.\\n')\n",
    "            return state_values\n"
   ]
  },
  {
   "cell_type": "markdown",
   "metadata": {},
   "source": [
    "policy_iteration_algorithm implements the policy iteration algorithm to find an optimal policy\n",
    "for a given environment. It iteratively evaluates and improves the policy until convergence.\n",
    "It starts with a random policy and repeatedly evaluates it using the policy evaluation function,\n",
    "and then improves the policy by selecting the best action for each state based on the current value function.\n",
    "If the policy becomes stable, the algorithm terminates\n",
    "and returns the optimal policy and the corresponding value function.\n"
   ]
  },
  {
   "cell_type": "code",
   "execution_count": 14,
   "metadata": {
    "id": "IryDdEYmDs8Y"
   },
   "outputs": [],
   "source": [
    "\n",
    "def policy_iteration_algorithm(environment, discount_factor=1.0, max_iterations=1000):\n",
    "    num_states = environment.observation_space.n\n",
    "    num_actions = environment.action_space.n\n",
    "    policy_matrix = np.ones(shape=[num_states, num_actions]) / num_actions\n",
    "    evaluated_policies_count = 1\n",
    "\n",
    "    for iteration in range(int(max_iterations)):\n",
    "        stable_policy = False\n",
    "        value_function = evaluate_policy(policy_matrix, environment, discount_factor)\n",
    "\n",
    "        for current_state in range(num_states):\n",
    "            current_action = np.argmax(policy_matrix[current_state])\n",
    "            action_values = calculate_state_value(environment, current_state, value_function, discount_factor)\n",
    "            best_action = np.argmax(action_values)\n",
    "\n",
    "            if current_action != best_action:\n",
    "                stable_policy = True\n",
    "\n",
    "            policy_matrix[current_state] = np.eye(num_actions)[best_action]\n",
    "\n",
    "        evaluated_policies_count += 1\n",
    "\n",
    "        if stable_policy:\n",
    "            print(f'Found a stable policy after {evaluated_policies_count:,} evaluations.\\n')\n",
    "            return policy_matrix, value_function\n"
   ]
  },
  {
   "cell_type": "markdown",
   "metadata": {},
   "source": [
    "value_iteration_algorithm implements the value iteration algorithm to find an optimal policy\n",
    "for a given environment. It iteratively updates the state values until they converge\n",
    "or until the maximum number of iterations is reached.\n",
    "It then constructs the optimal policy based on the converged state values.\n",
    "The convergence is determined by the change in state values being below a threshold.\n",
    "It returns the optimal policy matrix and the converged state values.\n"
   ]
  },
  {
   "cell_type": "code",
   "execution_count": 13,
   "metadata": {
    "id": "v2-KjjYmyKSM"
   },
   "outputs": [],
   "source": [
    "\n",
    "def value_iteration_algorithm(environment, discount_factor=1e-1, convergence_threshold=1e-9, max_iterations=1e4):\n",
    "    state_values = np.zeros(environment.observation_space.n)\n",
    "\n",
    "    for iteration in range(int(max_iterations)):\n",
    "        delta = 0\n",
    "\n",
    "        for current_state in range(environment.observation_space.n):\n",
    "            action_values = calculate_state_value(environment, current_state, state_values, discount_factor)\n",
    "            best_action_value = np.max(action_values)\n",
    "            delta = max(delta, np.abs(state_values[current_state] - best_action_value))\n",
    "            state_values[current_state] = best_action_value\n",
    "\n",
    "        if delta < convergence_threshold:\n",
    "            print(f'\\nValue iteration converged at iteration #{iteration+1:,}')\n",
    "            break\n",
    "\n",
    "    policy_matrix = np.zeros(shape=[environment.observation_space.n, environment.action_space.n])\n",
    "\n",
    "    for current_state in range(environment.observation_space.n):\n",
    "        action_values = calculate_state_value(environment, current_state, state_values, discount_factor)\n",
    "        best_action = np.argmax(action_values)\n",
    "        policy_matrix[current_state, best_action] = 1.0\n",
    "\n",
    "    return policy_matrix, state_values\n"
   ]
  },
  {
   "cell_type": "markdown",
   "metadata": {},
   "source": [
    "play_episodes_and_evaluate plays multiple episodes of the game according to a given policy matrix\n",
    "and evaluates the performance of the policy.\n",
    "It returns the total number of wins, total rewards, average reward per episode,\n",
    "and average number of actions taken per episode.\n"
   ]
  },
  {
   "cell_type": "code",
   "execution_count": 15,
   "metadata": {
    "id": "HA0k2Qh8yK7R"
   },
   "outputs": [],
   "source": [
    "\n",
    "def play_episodes_and_evaluate(env, num_episodes, policy_matrix, max_actions=100, render=False):\n",
    "\n",
    "    total_wins = 0\n",
    "    total_rewards, total_actions = 0, 0\n",
    "\n",
    "    for episode in range(num_episodes):\n",
    "        current_state = env.reset()\n",
    "        episode_done, actions_taken = False, 0\n",
    "\n",
    "        while actions_taken < max_actions:\n",
    "            selected_action = np.argmax(policy_matrix[current_state])\n",
    "            next_state, reward, episode_done, _ = env.step(selected_action)\n",
    "\n",
    "            if render:\n",
    "                env.render()\n",
    "\n",
    "            actions_taken += 1\n",
    "            total_rewards += reward\n",
    "            current_state = next_state\n",
    "\n",
    "            if episode_done:\n",
    "                total_wins += 1\n",
    "                break\n",
    "\n",
    "        total_actions += actions_taken\n",
    "\n",
    "    print(f'Total rewards: {total_rewards:,}\\tMax actions: {actions_taken:,}')\n",
    "\n",
    "    average_reward = total_rewards / num_episodes\n",
    "    average_actions = total_actions / num_episodes\n",
    "\n",
    "    print('')\n",
    "    return total_wins, total_rewards, average_reward, average_actions\n"
   ]
  },
  {
   "cell_type": "markdown",
   "metadata": {},
   "source": [
    "agent_and_evaluate runs and evaluates different iteration methods (Policy Iteration and Value Iteration)\n",
    "for finding an optimal policy in the given environment.\n",
    "It prints the final policy obtained using each method and then evaluates the performance of the policy\n",
    "by playing multiple episodes and computing metrics such as total rewards, number of wins, average reward,\n",
    "and average number of actions taken per episode. Finally, it returns a list containing total rewards\n",
    "obtained for each method.\n"
   ]
  },
  {
   "cell_type": "code",
   "execution_count": 16,
   "metadata": {
    "id": "oo2MuWYQFnAW"
   },
   "outputs": [],
   "source": [
    "\n",
    "num_episodes = 1000\n",
    "\n",
    "def agent_and_evaluate(env):\n",
    "\n",
    "    total_rewards_list = []\n",
    "\n",
    "    action_mapping = {\n",
    "        0: '\\u2191',  # up\n",
    "        1: '\\u2192',  # right\n",
    "        2: '\\u2193',  # down\n",
    "        3: '\\u2190'   # left\n",
    "    }\n",
    "\n",
    "    iteration_methods = [\n",
    "        ('Policy Iteration', policy_iteration_algorithm),\n",
    "        ('Value Iteration', value_iteration_algorithm)\n",
    "    ]\n",
    "\n",
    "    for method_name, method_func in iteration_methods:\n",
    "        policy_matrix, value_function = method_func(env)\n",
    "\n",
    "        print(f'Final policy using {method_name}:')\n",
    "        print(' '.join([action_mapping[action] for action in np.argmax(policy_matrix, axis=1)]))\n",
    "\n",
    "        total_wins, total_rewards, avg_reward, avg_actions = play_episodes_and_evaluate(env, num_episodes, policy_matrix)\n",
    "        total_rewards_list.append(total_rewards)\n",
    "\n",
    "        print(f'Number of wins = {total_wins:,}')\n",
    "        print(f'Average reward = {avg_reward:.2f}')\n",
    "        print(f'Average actions = {avg_actions:.2f}')\n",
    "\n",
    "    return total_rewards_list\n"
   ]
  },
  {
   "cell_type": "code",
   "execution_count": 17,
   "metadata": {
    "colab": {
     "base_uri": "https://localhost:8080/"
    },
    "id": "g2UG0B9OGdjA",
    "outputId": "8eff5873-bad4-461d-bc8e-88b0fe5c1283"
   },
   "outputs": [
    {
     "name": "stdout",
     "output_type": "stream",
     "text": [
      "Policy evaluation terminated after 66 iterations.\n",
      "\n",
      "Found a stable policy after 2 evaluations.\n",
      "\n",
      "Final policy using Policy Iteration:\n",
      "↑ ← ↑ ← ↑ ↑ ↑ ↑ ← → ↑ ↑ ↑ ↓ → ↑\n",
      "Total rewards: 736.0\tMax actions: 21\n",
      "\n",
      "Number of wins = 1,000\n",
      "Average reward = 0.74\n",
      "Average actions = 42.53\n",
      "\n",
      "Value iteration converged at iteration #8\n",
      "Final policy using Value Iteration:\n",
      "→ ← ↓ ← ↑ ↑ ↑ ↑ ← → ↑ ↑ ↑ ↓ → ↑\n",
      "Total rewards: 425.0\tMax actions: 18\n",
      "\n",
      "Number of wins = 1,000\n",
      "Average reward = 0.42\n",
      "Average actions = 26.61\n"
     ]
    }
   ],
   "source": [
    "rewards = agent_and_evaluate(env)"
   ]
  },
  {
   "cell_type": "markdown",
   "metadata": {},
   "source": [
    "Observation: for Policy evaluation \n",
    "- Policy evaluation terminated after 66 iterations, meaning the value iteration process converged after evaluating policies.\n",
    "- A stable policy was found after 2 evaluations, indicating that the policy iteration algorithm converged quickly.\n",
    "- The final policy obtained from policy iteration is displayed as a sequence of actions for each state.\n",
    "- The total rewards accumulated over all episodes are 736.0, with a maximum of 21 actions taken in a single episode.\n",
    "- Out of 1,000 episodes, the agent won all of them, achieving the maximum possible success rate.\n",
    "- The average reward per episode is 0.74, indicating a high success rate.\n",
    "- The average number of actions per episode is 42.53, which is relatively high due to the nature of the environment.\n",
    "\n",
    "Observation: for Value iteration\n",
    "- Value iteration converged at iteration #8, indicating that the value iteration process converged quickly.\n",
    "- The final policy obtained from value iteration is displayed as a sequence of actions for each state.\n",
    "- The total rewards accumulated over all episodes are 425.0, with a maximum of 18 actions taken in a single episode.\n",
    "- Out of 1,000 episodes, the agent won all of them, achieving the maximum possible success rate.\n",
    "- The average reward per episode is 0.42, indicating a high success rate.\n",
    "- The average number of actions per episode is 26.61, which is relatively low compared to the policy iteration results.\n",
    "\n",
    "\n",
    "\n",
    "\n"
   ]
  },
  {
   "cell_type": "markdown",
   "metadata": {},
   "source": [
    "visualize_policy defines a function to visualize policies obtained from policy iteration and value iteration.\n",
    "It converts the policy matrices into arrows representing actions (up, right, down, left) for each state.\n",
    "The arrows are displayed on a grid, where each cell corresponds to a state in the environment.\n",
    "The function then plots these arrows to visualize the policies graphically.\n"
   ]
  },
  {
   "cell_type": "code",
   "execution_count": 18,
   "metadata": {},
   "outputs": [
    {
     "name": "stdout",
     "output_type": "stream",
     "text": [
      "Policy evaluation terminated after 66 iterations.\n",
      "\n",
      "Found a stable policy after 2 evaluations.\n",
      "\n"
     ]
    },
    {
     "data": {
      "image/png": "[encoded data removed]",
      "text/plain": [
       "<Figure size 800x800 with 1 Axes>"
      ]
     },
     "metadata": {},
     "output_type": "display_data"
    },
    {
     "name": "stdout",
     "output_type": "stream",
     "text": [
      "\n",
      "Value iteration converged at iteration #8\n"
     ]
    },
    {
     "data": {
      "image/png": "[encoded data removed]",
      "text/plain": [
       "<Figure size 800x800 with 1 Axes>"
      ]
     },
     "metadata": {},
     "output_type": "display_data"
    }
   ],
   "source": [
    "\n",
    "import numpy as np\n",
    "import matplotlib.pyplot as plt\n",
    "\n",
    "def visualize_policy(policy_matrix, title):\n",
    "    action_mapping = {\n",
    "        0: '\\u2191',  # up\n",
    "        1: '\\u2192',  # right\n",
    "        2: '\\u2193',  # down\n",
    "        3: '\\u2190'   # left\n",
    "    }\n",
    "    \n",
    "    policy_arrows = [action_mapping[action] for action in np.argmax(policy_matrix, axis=1)]\n",
    "    policy_arrows = np.array(policy_arrows).reshape((int(np.sqrt(len(policy_arrows))), -1))\n",
    "\n",
    "    plt.figure(figsize=(8, 8))\n",
    "    plt.imshow(np.zeros(policy_arrows.shape))\n",
    "    for i in range(policy_arrows.shape[0]):\n",
    "        for j in range(policy_arrows.shape[1]):\n",
    "            plt.text(j, i, policy_arrows[i, j], ha='center', va='center', fontsize=20)\n",
    "    plt.title(title)\n",
    "    plt.axis('off')\n",
    "    plt.show()\n",
    "\n",
    "policy_matrix_policy_iteration, _ = policy_iteration_algorithm(env)\n",
    "visualize_policy(policy_matrix_policy_iteration, \"Policy Iteration Policy\")\n",
    "\n",
    "policy_matrix_value_iteration, _ = value_iteration_algorithm(env)\n",
    "visualize_policy(policy_matrix_value_iteration, \"Value Iteration Policy\")\n"
   ]
  }
 ],
 "metadata": {
  "accelerator": "GPU",
  "colab": {
   "gpuType": "T4",
   "provenance": []
  },
  "kernelspec": {
   "display_name": "Python 3 (ipykernel)",
   "language": "python",
   "name": "python3"
  },
  "language_info": {
   "codemirror_mode": {
    "name": "ipython",
    "version": 3
   },
   "file_extension": ".py",
   "mimetype": "text/x-python",
   "name": "python",
   "nbconvert_exporter": "python",
   "pygments_lexer": "ipython3",
   "version": "3.10.9"
  }
 },
 "nbformat": 4,
 "nbformat_minor": 1
}
