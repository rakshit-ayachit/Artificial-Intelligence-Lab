{
 "cells": [
  {
   "cell_type": "markdown",
   "metadata": {},
   "source": [
    "# Week 9 - CliffWalking\n",
    "## Name: Rakshit Ramachandra Ayachit\n",
    "## Registration No.: 210968045\n",
    "## Batch: B1\n",
    "## Section: DSE-A\n"
   ]
  },
  {
   "cell_type": "code",
   "execution_count": 3,
   "metadata": {
    "id": "oO2T5NlP3eDy"
   },
   "outputs": [],
   "source": [
    "import gymnasium as gym\n",
    "import numpy as np"
   ]
  },
  {
   "cell_type": "code",
   "execution_count": 4,
   "metadata": {
    "colab": {
     "base_uri": "https://localhost:8080/"
    },
    "id": "DrXRGnw13rBH",
    "outputId": "8b560ad6-edb9-45d8-ebdb-2ce713631ce8"
   },
   "outputs": [],
   "source": [
    "env = gym.make('CliffWalking-v0')"
   ]
  },
  {
   "cell_type": "markdown",
   "metadata": {},
   "source": [
    "monte_carlo_es implements the Monte Carlo Exploring Starts algorithm to find an optimal policy for a given environment. It iteratively generates episodes using exploring starts strategy,updates the action-value function Q, and then derives the optimal policy from the updated Q values.\n",
    "It returns the optimal policy, the action-value function Q, and a list containing the total number of steps taken in each episode during the exploration.\n"
   ]
  },
  {
   "cell_type": "code",
   "execution_count": 3,
   "metadata": {
    "id": "xDFgZcIU3tKs"
   },
   "outputs": [],
   "source": [
    "def monte_carlo_es(env, n_episodes=500):\n",
    "    Q = np.zeros((env.observation_space.n, env.action_space.n))\n",
    "    N = np.zeros((env.observation_space.n, env.action_space.n))\n",
    "    gamma = 1.0\n",
    "    total_steps = []\n",
    "\n",
    "    for i in range(n_episodes):\n",
    "        state = env.reset()\n",
    "        episode = []\n",
    "        done = False\n",
    "        steps = 0\n",
    "\n",
    "        # generate an episode using exploring starts\n",
    "        while not done:\n",
    "            action = np.random.choice(env.action_space.n)\n",
    "            next_state, reward, done, info = env.step(action)\n",
    "            episode.append((state, action, reward))\n",
    "            state = next_state\n",
    "            steps += 1\n",
    "        total_steps.append(steps)\n",
    "\n",
    "        # update Q values using the episode\n",
    "        returns = 0\n",
    "        for j in range(len(episode)-1, -1, -1):\n",
    "            state, action, reward = episode[j]\n",
    "            returns = gamma*returns + reward\n",
    "            N[state][action] += 1\n",
    "            Q[state][action] += (returns - Q[state][action])/N[state][action]\n",
    "\n",
    "    # derive optimal policy from Q values\n",
    "    policy = np.argmax(Q, axis=1)\n",
    "\n",
    "    return policy, Q, total_steps"
   ]
  },
  {
   "cell_type": "markdown",
   "metadata": {},
   "source": [
    "on_policy_mc_control implements the On-Policy Monte Carlo Control algorithm with Ɛ-greedy policy to find an optimal policy for a given environment. It iteratively generates episodes using an Ɛ-greedy policy, updates the action-value function Q, and then derives the optimal policy from the updated Q values. It returns the optimal policy, the action-value function Q, and a list containing the total number of steps taken in each episode during the exploration.\n"
   ]
  },
  {
   "cell_type": "code",
   "execution_count": 4,
   "metadata": {
    "id": "ywWaDev63vY-"
   },
   "outputs": [],
   "source": [
    "def on_policy_mc_control(env, n_episodes=500, epsilon=0.1):\n",
    "    Q = np.zeros((env.observation_space.n, env.action_space.n))\n",
    "    N = np.zeros((env.observation_space.n, env.action_space.n))\n",
    "    gamma = 1.0\n",
    "    total_steps = []\n",
    "\n",
    "    for i in range(n_episodes):\n",
    "        state = env.reset()\n",
    "        done = False\n",
    "        steps = 0\n",
    "\n",
    "        # generate an episode using Ɛ-soft policy\n",
    "        while not done:\n",
    "            if np.random.uniform(0, 1) < epsilon:\n",
    "                action = env.action_space.sample()\n",
    "            else:\n",
    "                action = np.argmax(Q[state])\n",
    "            next_state, reward, done, info = env.step(action)\n",
    "            N[state][action] += 1\n",
    "            Q[state][action] += (reward + gamma*np.max(Q[next_state]) - Q[state][action])/N[state][action]\n",
    "            state = next_state\n",
    "            steps += 1\n",
    "        total_steps.append(steps)\n",
    "\n",
    "    # derive optimal policy from Q values\n",
    "    policy = np.argmax(Q, axis=1)\n",
    "\n",
    "    return policy, Q, total_steps"
   ]
  },
  {
   "cell_type": "code",
   "execution_count": 5,
   "metadata": {
    "colab": {
     "base_uri": "https://localhost:8080/"
    },
    "id": "OaCh8f7T3xeM",
    "outputId": "249916df-8b01-4f61-8d08-9a72392697cf"
   },
   "outputs": [
    {
     "name": "stderr",
     "output_type": "stream",
     "text": [
      "/usr/local/lib/python3.10/dist-packages/gym/utils/passive_env_checker.py:241: DeprecationWarning: `np.bool8` is a deprecated alias for `np.bool_`.  (Deprecated NumPy 1.24)\n",
      "  if not isinstance(terminated, (bool, np.bool8)):\n"
     ]
    }
   ],
   "source": [
    "monte_carlo_es_policy, monte_carlo_es_q, total_steps_es = monte_carlo_es(env)\n",
    "on_policy_mc_control_policy, on_policy_mc_control_q, total_steps_control = on_policy_mc_control(env)"
   ]
  },
  {
   "cell_type": "code",
   "execution_count": 6,
   "metadata": {
    "colab": {
     "base_uri": "https://localhost:8080/"
    },
    "id": "mbOBRnEk3zAN",
    "outputId": "71eec516-ba94-4f2b-a398-45358c03c80f"
   },
   "outputs": [
    {
     "name": "stdout",
     "output_type": "stream",
     "text": [
      "Total Number of Steps taken to reach Optimal Policy using Monte Carlo ES: 3484417\n",
      "Total Number of Steps taken to reach Optimal Policy using On-Policy First-Visit MC Control: 18064\n"
     ]
    }
   ],
   "source": [
    "print(str.format('Total Number of Steps taken to reach Optimal Policy using Monte Carlo ES: {}', sum(total_steps_es)))\n",
    "print(str.format('Total Number of Steps taken to reach Optimal Policy using On-Policy First-Visit MC Control: {}', sum(total_steps_control)))\n"
   ]
  },
  {
   "cell_type": "code",
   "execution_count": 7,
   "metadata": {
    "colab": {
     "base_uri": "https://localhost:8080/"
    },
    "id": "Q8Pn4PSh30Zc",
    "outputId": "402341aa-8499-42d3-ef12-13264bf1bd56"
   },
   "outputs": [
    {
     "name": "stdout",
     "output_type": "stream",
     "text": [
      "Average Number of Steps per Episode taken to reach Optimal Policy using Monte Carlo ES: 6968.834\n",
      "Average Number of Steps per Episode taken to reach Optimal Policy using On-Policy First-Visit MC Control: 36.128\n"
     ]
    }
   ],
   "source": [
    "print(str.format('Average Number of Steps per Episode taken to reach Optimal Policy using Monte Carlo ES: {}', sum(total_steps_es)/len(total_steps_es)))\n",
    "print(str.format('Average Number of Steps per Episode taken to reach Optimal Policy using On-Policy First-Visit MC Control: {}', sum(total_steps_control)/len(total_steps_control)))\n"
   ]
  },
  {
   "cell_type": "code",
   "execution_count": 6,
   "metadata": {},
   "outputs": [
    {
     "data": {
      "image/png": "[encoded data removed]",
      "text/plain": [
       "<Figure size 800x600 with 1 Axes>"
      ]
     },
     "metadata": {},
     "output_type": "display_data"
    },
    {
     "name": "stdout",
     "output_type": "stream",
     "text": [
      "Average Number of Steps per Episode Comparison:\n",
      "------------------------------------------------\n",
      "| Method                              | Average Steps per Episode |\n",
      "------------------------------------------------\n",
      "| Monte Carlo ES                      |         6968.834          |\n",
      "| On-Policy First-Visit MC Control    |          36.128           |\n",
      "------------------------------------------------\n"
     ]
    }
   ],
   "source": [
    "import matplotlib.pyplot as plt\n",
    "\n",
    "# Total steps comparison\n",
    "labels = ['Monte Carlo ES', 'On-Policy First-Visit MC Control']\n",
    "total_steps = [3484417, 18064]\n",
    "\n",
    "plt.figure(figsize=(8, 6))\n",
    "plt.bar(labels, total_steps, color=['blue', 'green'])\n",
    "plt.xlabel('Method')\n",
    "plt.ylabel('Total Steps')\n",
    "plt.title('Total Steps Comparison')\n",
    "plt.show()\n",
    "\n",
    "# Tabular comparison for average steps per episode\n",
    "methods = ['Monte Carlo ES', 'On-Policy First-Visit MC Control']\n",
    "average_steps = [6968.834, 36.128]\n",
    "\n",
    "print(\"Average Number of Steps per Episode Comparison:\")\n",
    "print(\"------------------------------------------------\")\n",
    "print(\"| Method                              | Average Steps per Episode |\")\n",
    "print(\"------------------------------------------------\")\n",
    "for method, steps in zip(methods, average_steps):\n",
    "    print(f\"| {method:<35} | {steps:^25.3f} |\")\n",
    "print(\"------------------------------------------------\")\n"
   ]
  },
  {
   "cell_type": "code",
   "execution_count": null,
   "metadata": {},
   "outputs": [],
   "source": []
  }
 ],
 "metadata": {
  "colab": {
   "provenance": []
  },
  "kernelspec": {
   "display_name": "Python 3 (ipykernel)",
   "language": "python",
   "name": "python3"
  },
  "language_info": {
   "codemirror_mode": {
    "name": "ipython",
    "version": 3
   },
   "file_extension": ".py",
   "mimetype": "text/x-python",
   "name": "python",
   "nbconvert_exporter": "python",
   "pygments_lexer": "ipython3",
   "version": "3.10.9"
  }
 },
 "nbformat": 4,
 "nbformat_minor": 1
}
