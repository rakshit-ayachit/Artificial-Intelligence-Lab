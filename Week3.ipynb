{
 "cells": [
  {
   "cell_type": "markdown",
   "id": "3286b917",
   "metadata": {},
   "source": [
    "# Week 3 - Tic Tac Toe\n",
    "## Name: Rakshit Ramachandra Ayachit\n",
    "## Registration No.: 210968045\n",
    "## Batch: B1\n",
    "## Section: DSE-A\n"
   ]
  },
  {
   "cell_type": "code",
   "execution_count": 2,
   "id": "89ac5618",
   "metadata": {
    "scrolled": true
   },
   "outputs": [
    {
     "name": "stdout",
     "output_type": "stream",
     "text": [
      "Requirement already satisfied: easyAI in c:\\programdata\\anaconda3\\lib\\site-packages (2.0.12)\n",
      "Requirement already satisfied: numpy in c:\\users\\user\\appdata\\roaming\\python\\python310\\site-packages (from easyAI) (1.25.0)\n"
     ]
    },
    {
     "name": "stderr",
     "output_type": "stream",
     "text": [
      "WARNING: Ignoring invalid distribution -rotobuf (c:\\users\\user\\appdata\\roaming\\python\\python310\\site-packages)\n",
      "WARNING: Ignoring invalid distribution - (c:\\programdata\\anaconda3\\lib\\site-packages)\n",
      "WARNING: Ignoring invalid distribution -rotobuf (c:\\users\\user\\appdata\\roaming\\python\\python310\\site-packages)\n",
      "WARNING: Ignoring invalid distribution - (c:\\programdata\\anaconda3\\lib\\site-packages)\n",
      "WARNING: Ignoring invalid distribution -rotobuf (c:\\users\\user\\appdata\\roaming\\python\\python310\\site-packages)\n",
      "WARNING: Ignoring invalid distribution - (c:\\programdata\\anaconda3\\lib\\site-packages)\n",
      "WARNING: Ignoring invalid distribution -rotobuf (c:\\users\\user\\appdata\\roaming\\python\\python310\\site-packages)\n",
      "WARNING: Ignoring invalid distribution - (c:\\programdata\\anaconda3\\lib\\site-packages)\n",
      "WARNING: Ignoring invalid distribution -rotobuf (c:\\users\\user\\appdata\\roaming\\python\\python310\\site-packages)\n",
      "WARNING: Ignoring invalid distribution - (c:\\programdata\\anaconda3\\lib\\site-packages)\n",
      "WARNING: Ignoring invalid distribution -rotobuf (c:\\users\\user\\appdata\\roaming\\python\\python310\\site-packages)\n",
      "WARNING: Ignoring invalid distribution - (c:\\programdata\\anaconda3\\lib\\site-packages)\n"
     ]
    }
   ],
   "source": [
    "!pip install easyAI"
   ]
  },
  {
   "cell_type": "code",
   "execution_count": 19,
   "id": "cb34628c",
   "metadata": {},
   "outputs": [],
   "source": [
    "from easyAI import TwoPlayerGame, Human_Player, AI_Player, solve_with_iterative_deepening, solve_with_depth_first_search\n",
    "from easyAI.AI import Negamax"
   ]
  },
  {
   "cell_type": "code",
   "execution_count": 51,
   "id": "b65c7598",
   "metadata": {},
   "outputs": [],
   "source": [
    "# declaring the specifications of the game\n",
    "class TicTacToe(TwoPlayerGame):\n",
    "\n",
    "    def __init__(self, players=None):\n",
    "        self.players = players\n",
    "        self.board = [0 for i in range(9)]\n",
    "        self.current_player = 1\n",
    "\n",
    "    def possible_moves(self):\n",
    "        return [i + 1 for i, e in enumerate(self.board) if e == 0]\n",
    "\n",
    "    def make_move(self, move):\n",
    "        self.board[int(move) - 1] = self.current_player\n",
    "\n",
    "    def lose(self):\n",
    "        lines_to_check = [\n",
    "            [1, 2, 3], [4, 5, 6], [7, 8, 9],  # horizontal lines\n",
    "            [1, 4, 7], [2, 5, 8], [3, 6, 9],  # vertical lines\n",
    "            [1, 5, 9], [3, 5, 7]  # diagonal lines\n",
    "        ]\n",
    "        for line in lines_to_check:\n",
    "            if all(self.board[c - 1] == self.opponent_index for c in line):\n",
    "                return True\n",
    "        return False\n",
    "\n",
    "    def is_over(self):\n",
    "        return (self.possible_moves() == []) or self.lose()\n",
    "\n",
    "    def show(self):\n",
    "        for j in range(3):\n",
    "            row = \"\"\n",
    "            for i in range(3):\n",
    "                cell_value = self.board[3 * j + i]\n",
    "                row += [\".\", \"O\", \"X\"][cell_value]\n",
    "                row += \" \"  # Add a space between each cell\n",
    "            print(row)\n",
    "        print()  # Add an empty line after printing the board\n",
    "\n",
    "    def scoring(self):\n",
    "        return -100 if self.lose() else 0"
   ]
  },
  {
   "cell_type": "code",
   "execution_count": 52,
   "id": "0a93a19c",
   "metadata": {},
   "outputs": [],
   "source": [
    "def main(algo):\n",
    "  ai = Negamax(9)\n",
    "  if algo == 'id':\n",
    "      result = solve_with_iterative_deepening(game=TicTacToe(players=[AI_Player(ai), Human_Player()]), ai_depths=range(2, 10), win_score=100)\n",
    "  elif algo == 'dfs':\n",
    "      result = solve_with_depth_first_search(game=TicTacToe(players=[AI_Player(ai), Human_Player()]), win_score=100)\n",
    "  else:\n",
    "      print(\"Invalid algorithm.\")\n",
    "  return result"
   ]
  },
  {
   "cell_type": "code",
   "execution_count": 53,
   "id": "4a441300",
   "metadata": {
    "scrolled": true
   },
   "outputs": [
    {
     "name": "stdout",
     "output_type": "stream",
     "text": [
      "d:2, a:0, m:1\n",
      "d:3, a:0, m:1\n",
      "d:4, a:0, m:1\n",
      "d:5, a:0, m:1\n",
      "d:6, a:0, m:1\n",
      "d:7, a:0, m:1\n",
      "d:8, a:0, m:1\n",
      "d:9, a:0, m:1\n",
      "Result:  (0, 9, 1)\n",
      "Time Taken: 2.47s\n"
     ]
    }
   ],
   "source": [
    "import time\n",
    "start = time.time()\n",
    "idres = main('id')\n",
    "end = time.time()\n",
    "print('Result: ', idres)\n",
    "print(str.format('Time Taken: {:.2f}s', end-start))"
   ]
  },
  {
   "cell_type": "code",
   "execution_count": 7,
   "id": "784796cd",
   "metadata": {},
   "outputs": [
    {
     "name": "stdout",
     "output_type": "stream",
     "text": [
      "Result:  0\n",
      "Time Taken: 4.98s\n"
     ]
    }
   ],
   "source": [
    "import time\n",
    "start = time.time()\n",
    "idres = main('dfs')\n",
    "end = time.time()\n",
    "print('Result: ', idres)\n",
    "print(str.format('Time Taken: {:.2f}s', end-start))"
   ]
  },
  {
   "cell_type": "code",
   "execution_count": 8,
   "id": "1fbe2b26",
   "metadata": {},
   "outputs": [],
   "source": [
    "game = TicTacToe(players=[AI_Player(Negamax(9)), Human_Player()])"
   ]
  },
  {
   "cell_type": "code",
   "execution_count": null,
   "id": "1b746130",
   "metadata": {},
   "outputs": [],
   "source": [
    "# asking the AI agent for its move\n",
    "comp=game.get_move()\n",
    "game.play_move(comp)\n",
    "game.show()"
   ]
  },
  {
   "cell_type": "code",
   "execution_count": null,
   "id": "72eb497c",
   "metadata": {},
   "outputs": [],
   "source": [
    "game.play_move(9)\n",
    "game.show()"
   ]
  },
  {
   "cell_type": "code",
   "execution_count": 10,
   "id": "34539616",
   "metadata": {},
   "outputs": [
    {
     "name": "stdout",
     "output_type": "stream",
     "text": [
      "\n",
      "O . O\n",
      ". . .\n",
      ". . X\n"
     ]
    }
   ],
   "source": [
    "comp=game.get_move()\n",
    "game.play_move(comp)\n",
    "game.show()"
   ]
  },
  {
   "cell_type": "code",
   "execution_count": 11,
   "id": "edb16b0a",
   "metadata": {},
   "outputs": [
    {
     "name": "stdout",
     "output_type": "stream",
     "text": [
      "\n",
      "O . X\n",
      ". . .\n",
      ". . X\n"
     ]
    }
   ],
   "source": [
    "game.play_move(3)\n",
    "game.show()"
   ]
  },
  {
   "cell_type": "code",
   "execution_count": 12,
   "id": "330848a6",
   "metadata": {},
   "outputs": [
    {
     "name": "stdout",
     "output_type": "stream",
     "text": [
      "\n",
      "O . X\n",
      ". . O\n",
      ". . X\n"
     ]
    }
   ],
   "source": [
    "comp=game.get_move()\n",
    "game.play_move(comp)\n",
    "game.show()"
   ]
  },
  {
   "cell_type": "code",
   "execution_count": 13,
   "id": "3d47c03c",
   "metadata": {},
   "outputs": [
    {
     "name": "stdout",
     "output_type": "stream",
     "text": [
      "\n",
      "O . X\n",
      "X . O\n",
      ". . X\n"
     ]
    }
   ],
   "source": [
    "game.play_move(4)\n",
    "game.show()"
   ]
  },
  {
   "cell_type": "code",
   "execution_count": 14,
   "id": "5fab0e6d",
   "metadata": {},
   "outputs": [
    {
     "name": "stdout",
     "output_type": "stream",
     "text": [
      "\n",
      "O . X\n",
      "X O O\n",
      ". . X\n"
     ]
    }
   ],
   "source": [
    "comp=game.get_move()\n",
    "game.play_move(comp)\n",
    "game.show()"
   ]
  },
  {
   "cell_type": "code",
   "execution_count": 15,
   "id": "87f63d8e",
   "metadata": {},
   "outputs": [
    {
     "name": "stdout",
     "output_type": "stream",
     "text": [
      "\n",
      "O . X\n",
      "X O O\n",
      ". X X\n"
     ]
    }
   ],
   "source": [
    "game.play_move(8)\n",
    "game.show()"
   ]
  },
  {
   "cell_type": "code",
   "execution_count": 16,
   "id": "b63dd818",
   "metadata": {},
   "outputs": [
    {
     "name": "stdout",
     "output_type": "stream",
     "text": [
      "\n",
      "O . X\n",
      "X O O\n",
      "O X X\n"
     ]
    }
   ],
   "source": [
    "comp=game.get_move()\n",
    "game.play_move(comp)\n",
    "game.show()"
   ]
  },
  {
   "cell_type": "code",
   "execution_count": 17,
   "id": "3e1dd834",
   "metadata": {},
   "outputs": [],
   "source": [
    "game.play_move(1)"
   ]
  },
  {
   "cell_type": "code",
   "execution_count": 18,
   "id": "fbdc32ca",
   "metadata": {},
   "outputs": [
    {
     "name": "stdout",
     "output_type": "stream",
     "text": [
      "\n",
      "X . X\n",
      "X O O\n",
      "O X X\n"
     ]
    }
   ],
   "source": [
    "game.show()"
   ]
  },
  {
   "cell_type": "code",
   "execution_count": 51,
   "id": "97d8882a",
   "metadata": {},
   "outputs": [
    {
     "name": "stdout",
     "output_type": "stream",
     "text": [
      "\n",
      "X O X\n",
      "X X O\n",
      "O X O\n"
     ]
    }
   ],
   "source": [
    "game.show()"
   ]
  },
  {
   "cell_type": "code",
   "execution_count": 52,
   "id": "689a3335",
   "metadata": {},
   "outputs": [
    {
     "name": "stdout",
     "output_type": "stream",
     "text": [
      "\n",
      "X O X\n",
      "X X O\n",
      "O O O\n"
     ]
    }
   ],
   "source": [
    "game.play_move(8)\n",
    "game.show()"
   ]
  },
  {
   "cell_type": "code",
   "execution_count": 53,
   "id": "909235db",
   "metadata": {},
   "outputs": [
    {
     "name": "stdout",
     "output_type": "stream",
     "text": [
      "\n",
      "X O X\n",
      "X X O\n",
      "O O O\n"
     ]
    }
   ],
   "source": [
    "game.show()"
   ]
  },
  {
   "cell_type": "code",
   "execution_count": 15,
   "id": "24fa013f",
   "metadata": {},
   "outputs": [
    {
     "name": "stdout",
     "output_type": "stream",
     "text": [
      "Solving using Iterative Deepening...\n",
      "d:2, a:0, m:1\n",
      "d:3, a:0, m:1\n",
      "d:4, a:0, m:1\n",
      "d:5, a:0, m:1\n",
      "d:6, a:0, m:1\n",
      "d:7, a:0, m:1\n",
      "d:8, a:0, m:1\n",
      "d:9, a:0, m:1\n",
      "Result (Iterative Deepening): (0, 9, 1)\n",
      "Time taken for Iterative Deepening: 0.5795857906341553 seconds\n",
      "\n",
      "Solving using Depth-First Search...\n",
      "Result (Depth-First Search): 0\n",
      "Time taken for Depth-First Search: 1.227024793624878 seconds\n"
     ]
    }
   ],
   "source": [
    "import time\n",
    "\n",
    "if __name__ == \"__main__\":\n",
    "    # Create an instance of the TicTacToe game\n",
    "    game_instance = TicTacToe()\n",
    "\n",
    "    # Solve the game using Iterative Deepening (ID)\n",
    "    print(\"Solving using Iterative Deepening...\")\n",
    "    start_id = time.time()\n",
    "    id_result = solve_with_iterative_deepening(game_instance, ai_depths=range(2, 10), win_score=100)\n",
    "    end_id = time.time()\n",
    "    print(\"Result (Iterative Deepening):\", id_result)\n",
    "    print(\"Time taken for Iterative Deepening:\", end_id - start_id, \"seconds\")\n",
    "\n",
    "    # Solve the game using Depth-First Search (DFS)\n",
    "    print(\"\\nSolving using Depth-First Search...\")\n",
    "    start_dfs = time.time()\n",
    "    dfs_result = solve_with_depth_first_search(game_instance, win_score=100)\n",
    "    end_dfs = time.time()\n",
    "    print(\"Result (Depth-First Search):\", dfs_result)\n",
    "    print(\"Time taken for Depth-First Search:\", end_dfs - start_dfs, \"seconds\")\n"
   ]
  }
 ],
 "metadata": {
  "kernelspec": {
   "display_name": "Python 3 (ipykernel)",
   "language": "python",
   "name": "python3"
  },
  "language_info": {
   "codemirror_mode": {
    "name": "ipython",
    "version": 3
   },
   "file_extension": ".py",
   "mimetype": "text/x-python",
   "name": "python",
   "nbconvert_exporter": "python",
   "pygments_lexer": "ipython3",
   "version": "3.10.9"
  }
 },
 "nbformat": 4,
 "nbformat_minor": 5
}
